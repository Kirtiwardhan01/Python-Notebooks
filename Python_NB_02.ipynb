{
  "nbformat": 4,
  "nbformat_minor": 0,
  "metadata": {
    "colab": {
      "name": "Python_NB 02.ipynb",
      "provenance": [],
      "authorship_tag": "ABX9TyMF+7gxzL7lZ6FSrcWyqvyu",
      "include_colab_link": true
    },
    "kernelspec": {
      "name": "python3",
      "display_name": "Python 3"
    },
    "language_info": {
      "name": "python"
    }
  },
  "cells": [
    {
      "cell_type": "markdown",
      "metadata": {
        "id": "view-in-github",
        "colab_type": "text"
      },
      "source": [
        "<a href=\"https://colab.research.google.com/github/Kirtiwardhan01/Python-Notebooks/blob/main/Python_NB_02.ipynb\" target=\"_parent\"><img src=\"https://colab.research.google.com/assets/colab-badge.svg\" alt=\"Open In Colab\"/></a>"
      ]
    },
    {
      "cell_type": "code",
      "metadata": {
        "colab": {
          "base_uri": "https://localhost:8080/",
          "height": 52
        },
        "id": "lAVCOGtZOg0M",
        "outputId": "3927bf51-8239-43ff-b4be-adb812b21dda"
      },
      "source": [
        "#Ref: https://www.tutorialspoint.com/python3/python_basic_operators.htm  \n",
        "#Arithmetic Operators\n",
        "\"Operators are the constructs, which can manipulate the value of operands. \\\n",
        "Consider the expression 4 + 5 = 9. \\\n",
        "Here, 4 and 5 are called the operands and + is called the operator.\""
      ],
      "execution_count": 1,
      "outputs": [
        {
          "output_type": "execute_result",
          "data": {
            "application/vnd.google.colaboratory.intrinsic+json": {
              "type": "string"
            },
            "text/plain": [
              "'Operators are the constructs, which can manipulate the value of operands. Consider the expression 4 + 5 = 9. Here, 4 and 5 are called the operands and + is called the operator.'"
            ]
          },
          "metadata": {},
          "execution_count": 1
        }
      ]
    },
    {
      "cell_type": "code",
      "metadata": {
        "colab": {
          "base_uri": "https://localhost:8080/"
        },
        "id": "oZBqPeUROvoK",
        "outputId": "653871e1-c474-4a24-d484-2c700571307d"
      },
      "source": [
        "a,b = 10,21\n",
        "\n",
        "c = a + b   #+ Addition\n",
        "print(c)\n",
        "d = a-b     #- Subtraction\n",
        "print(d)\n",
        "e = a*b     #* Multiplication\n",
        "print(e)\n",
        "f = b/a     #/ Division\n",
        "print(f)\n",
        "g = b%a     #% Modulus (Returns the remainder)\n",
        "print(g)\n",
        "h = a**b    #** Exponent\n",
        "print(h)\n",
        "i = a//b    #//\tFloor Division \n",
        "print(i)"
      ],
      "execution_count": 2,
      "outputs": [
        {
          "output_type": "stream",
          "name": "stdout",
          "text": [
            "31\n",
            "-11\n",
            "210\n",
            "2.1\n",
            "1\n",
            "1000000000000000000000\n",
            "0\n"
          ]
        }
      ]
    },
    {
      "cell_type": "code",
      "metadata": {
        "colab": {
          "base_uri": "https://localhost:8080/",
          "height": 35
        },
        "id": "-QC5tkNoPSIJ",
        "outputId": "f6831a76-2056-44f6-ffb8-7b25f9fe32e2"
      },
      "source": [
        "#Comparison Operators\n",
        "\"These operators compare the values on either side of them and decide the relation among them.\\\n",
        "They are also called Relational operators.\""
      ],
      "execution_count": 3,
      "outputs": [
        {
          "output_type": "execute_result",
          "data": {
            "application/vnd.google.colaboratory.intrinsic+json": {
              "type": "string"
            },
            "text/plain": [
              "'These operators compare the values on either side of them and decide the relation among them.They are also called Relational operators.'"
            ]
          },
          "metadata": {},
          "execution_count": 3
        }
      ]
    },
    {
      "cell_type": "code",
      "metadata": {
        "colab": {
          "base_uri": "https://localhost:8080/"
        },
        "id": "zaULUwWhRt2u",
        "outputId": "b7bbcd65-4bc6-46f6-a244-0c3e8f56f6db"
      },
      "source": [
        "a,b = 10,21\n",
        "(a == b)    #Returns output as False\n",
        "(a!=b)      #Returns output as True\n",
        "(a>b)       #Returns output as False\n",
        "(a<b)       #Returns output as True\n",
        "(a>=b)      #Returns output as False\n",
        "(a<=b)      #Returns output as True"
      ],
      "execution_count": 4,
      "outputs": [
        {
          "output_type": "execute_result",
          "data": {
            "text/plain": [
              "True"
            ]
          },
          "metadata": {},
          "execution_count": 4
        }
      ]
    },
    {
      "cell_type": "code",
      "metadata": {
        "colab": {
          "base_uri": "https://localhost:8080/"
        },
        "id": "iOPL48VpR3rc",
        "outputId": "3ec9085c-3076-4f8f-bfed-03ba9546de7d"
      },
      "source": [
        "#Assignment Operators\n",
        "a,b=10,21\n",
        "c=a+b    #assigns value of a + b into c  \n",
        "print(c)\n",
        "c+=a     #+= Add AND #c += a is equivalent to c = c + a  \n",
        "print(c)\n",
        "c-=a     #+= Substract AND c += a is equivalent to c = c - a\n",
        "print(c)\n",
        "c*=a     #*= Multiply AND c*= a is equivalent to c = c*a\n",
        "print(c)\n",
        "c/=a     #/= Division AND c/=a is equivalent to c=c/a\n",
        "print(c)\n",
        "c%=a     #%=Modulus AND c%a is equivalent to c = c%a\n",
        "print(c)\n",
        "c**=a    #**=Exponent AND c**a is equivalent to c = c**a\n",
        "print(c)    # here c = 1 and a =10\n",
        "c//=a   #//=Floor Division AND c//a is equivalent to c = c//a\n",
        "print(c)"
      ],
      "execution_count": 5,
      "outputs": [
        {
          "output_type": "stream",
          "name": "stdout",
          "text": [
            "31\n",
            "41\n",
            "31\n",
            "310\n",
            "31.0\n",
            "1.0\n",
            "1.0\n",
            "0.0\n"
          ]
        }
      ]
    },
    {
      "cell_type": "code",
      "metadata": {
        "colab": {
          "base_uri": "https://localhost:8080/"
        },
        "id": "eSlW2aVuSz47",
        "outputId": "38506707-690d-475f-c73f-e0a1dfa8c0ed"
      },
      "source": [
        "#Logical Operators\n",
        "#Assume variable a holds True and variable b holds False then −\n",
        "a,b = True,False\n",
        "(a and b)     #and Logical AND  (If both the operands are true then condition becomes true)\n",
        "(a or b)      #or Logical OR\t(If any of the two operands are non-zero then condition becomes true)\n",
        "not(a and b)     #not Logical NOT\t(Used to reverse the logical state of its operand.)"
      ],
      "execution_count": 6,
      "outputs": [
        {
          "output_type": "execute_result",
          "data": {
            "text/plain": [
              "True"
            ]
          },
          "metadata": {},
          "execution_count": 6
        }
      ]
    },
    {
      "cell_type": "code",
      "metadata": {
        "colab": {
          "base_uri": "https://localhost:8080/"
        },
        "id": "kfvuve-vWvCc",
        "outputId": "1ba53471-f99c-4b2d-9c09-72d78680e0ec"
      },
      "source": [
        "#Python Membership Operators\n",
        "\"Python’s membership operators test for membership in a sequence, \\\n",
        "such as strings, lists, or tuples. There are two membership operators as explained below −\"\n",
        "\n",
        "\"x in y, here in results in a 1 if x is a member of sequence y.\"\n",
        "\"x not in y, here not in results in a 1 if x is not a member of sequence y.\"\n",
        "\n",
        "a,b = 1,15\n",
        "c = b/a\n",
        "list1 = [1,3,5,7,9,10,12]\n",
        "\n",
        "if (a in list1):\n",
        "  print('a is available in list1')\n",
        "else:\n",
        "  print('a is not available in list1')\n",
        "\n",
        "if (b not in list1):\n",
        "  print('b is not available in list1')\n",
        "else:\n",
        "  print('b is available in list1')\n",
        "\n",
        "\n",
        "if ( c in list1 ):\n",
        "   print (\"Line 3 - a is available in the given list\")\n",
        "else:\n",
        "   print (\"Line 3 - a is not available in the given list\")\n"
      ],
      "execution_count": 7,
      "outputs": [
        {
          "output_type": "stream",
          "name": "stdout",
          "text": [
            "a is available in list1\n",
            "b is not available in list1\n",
            "Line 3 - a is not available in the given list\n"
          ]
        }
      ]
    },
    {
      "cell_type": "code",
      "metadata": {
        "colab": {
          "base_uri": "https://localhost:8080/"
        },
        "id": "CSefwF-xZr3V",
        "outputId": "9e811578-b642-404b-afa9-9460d96b3584"
      },
      "source": [
        "#Python Bitwise Operators\n",
        "\"Bitwise operator works on bits and performs bit-by-bit operation.\\\n",
        "Assume if a = 60; and b = 13; Now in binary format they will be as follows −\" \n",
        "\"Python's built-in function bin() can be used to obtain binary representation of an integer number.\"\n",
        "\n",
        "a = 0b111100\n",
        "b = 0b1101  \n",
        "c = a&b     #& Binary AND (Operator copies a bit, to the result, if it exists in both operands)\n",
        "d = a|b     #| Binary OR\t(It copies a bit, if it exists in either operand.)\n",
        "e = a^b     #^ Binary XOR\t(It copies the bit, if it is set in one operand but not both)\n",
        "f = ~a      #~ Binary Ones Complement\t(It is unary and has the effect of 'flipping' bits)\n",
        "g = a<<2    #<< Binary Left Shift\t(The left operand's value is moved left by the number of bits specified by the right operand.)\n",
        "h = a>>2    #>> Binary Right Shift\t(The left operand's value is moved right by the number of bits specified by the right operand)\n",
        "print(c,d,e,f,g,h) \n",
        "print(bin(c))     \n",
        "print(bin(d))\n",
        "print(bin(e))\n",
        "print(bin(f))\n",
        "print(bin(g))\n",
        "print(bin(h))"
      ],
      "execution_count": 8,
      "outputs": [
        {
          "output_type": "stream",
          "name": "stdout",
          "text": [
            "12 61 49 -61 240 15\n",
            "0b1100\n",
            "0b111101\n",
            "0b110001\n",
            "-0b111101\n",
            "0b11110000\n",
            "0b1111\n"
          ]
        }
      ]
    },
    {
      "cell_type": "code",
      "metadata": {
        "colab": {
          "base_uri": "https://localhost:8080/"
        },
        "id": "pN6aes5Hkook",
        "outputId": "9fc08a57-5c86-49fb-dcfb-35394536e48c"
      },
      "source": [
        "#Python Identity Operators\n",
        "\"Identity operators compare the memory locations of two objects.\\\n",
        "There are two Identity operators as explained below −\"\n",
        "\n",
        "a = 10\n",
        "b = 10\n",
        "print(\"Line1\",'a=',a,':',id(a),'b=',b,':',id(b))\n",
        "print(\"\\n\")\n",
        "if (a is b):\n",
        "  print('Line2 : a and b have same identity')\n",
        "else:\n",
        "  print(\"Line2 : a and b don't have same identity\")\n",
        "print(\"\\n\")\n",
        "if (id(a) is id(b)):\n",
        "  print('Line3 : a and b have same identity')\n",
        "else:\n",
        "  print(\"Line3 : a and b don't have same identity\")\n",
        "print(\"\\n\")\n",
        "b =30\n",
        "print('Line4','a=',a,':',id(a),'b=',b,':',id(b))\n",
        "print(\"\\n\")\n",
        "if (id(a) is id(b)):\n",
        "  print('Line5 : a and b have same identity')\n",
        "else:\n",
        "  print(\"Line5 : a and b don't have same identity\")"
      ],
      "execution_count": 9,
      "outputs": [
        {
          "output_type": "stream",
          "name": "stdout",
          "text": [
            "Line1 a= 10 : 93940752390944 b= 10 : 93940752390944\n",
            "\n",
            "\n",
            "Line2 : a and b have same identity\n",
            "\n",
            "\n",
            "Line3 : a and b don't have same identity\n",
            "\n",
            "\n",
            "Line4 a= 10 : 93940752390944 b= 30 : 93940752391584\n",
            "\n",
            "\n",
            "Line5 : a and b don't have same identity\n"
          ]
        }
      ]
    }
  ]
}