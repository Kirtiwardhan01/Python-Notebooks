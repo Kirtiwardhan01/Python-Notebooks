{
  "nbformat": 4,
  "nbformat_minor": 0,
  "metadata": {
    "colab": {
      "name": "Python_NB 03.ipynb",
      "provenance": [],
      "authorship_tag": "ABX9TyP3zbXfgdHgVAeLUNCApcUS",
      "include_colab_link": true
    },
    "kernelspec": {
      "name": "python3",
      "display_name": "Python 3"
    },
    "language_info": {
      "name": "python"
    }
  },
  "cells": [
    {
      "cell_type": "markdown",
      "metadata": {
        "id": "view-in-github",
        "colab_type": "text"
      },
      "source": [
        "<a href=\"https://colab.research.google.com/github/Kirtiwardhan01/Python-Notebooks/blob/main/Python_NB_03.ipynb\" target=\"_parent\"><img src=\"https://colab.research.google.com/assets/colab-badge.svg\" alt=\"Open In Colab\"/></a>"
      ]
    },
    {
      "cell_type": "code",
      "metadata": {
        "colab": {
          "base_uri": "https://localhost:8080/",
          "height": 69
        },
        "id": "YLjZt2_juV_g",
        "outputId": "c236a9a9-59ee-4188-9469-4b8cd4bb6cca"
      },
      "source": [
        "\"Decision-making is the anticipation of conditions occurring during the execution of a program and specified actions taken according to the conditions.\\\n",
        "Decision structures evaluate multiple expressions, which produce TRUE or FALSE as the outcome.\\\n",
        "You need to determine which action to take and which statements to execute if the outcome is TRUE or FALSE otherwise\"\n"
      ],
      "execution_count": 7,
      "outputs": [
        {
          "output_type": "execute_result",
          "data": {
            "application/vnd.google.colaboratory.intrinsic+json": {
              "type": "string"
            },
            "text/plain": [
              "'Decision-making is the anticipation of conditions occurring during the execution of a program and specified actions taken according to the conditions.Decision structures evaluate multiple expressions, which produce TRUE or FALSE as the outcome.You need to determine which action to take and which statements to execute if the outcome is TRUE or FALSE otherwise'"
            ]
          },
          "metadata": {},
          "execution_count": 7
        }
      ]
    },
    {
      "cell_type": "code",
      "metadata": {
        "colab": {
          "base_uri": "https://localhost:8080/",
          "height": 35
        },
        "id": "GOo6CRJrui_q",
        "outputId": "a3ea41a2-c7a9-40d6-b10d-a96a61a0aea9"
      },
      "source": [
        "\"Python programming language assumes any non-zero and non-null values as TRUE, and any zero or null values as FALSE value\""
      ],
      "execution_count": 8,
      "outputs": [
        {
          "output_type": "execute_result",
          "data": {
            "application/vnd.google.colaboratory.intrinsic+json": {
              "type": "string"
            },
            "text/plain": [
              "'Python programming language assumes any non-zero and non-null values as TRUE, and any zero or null values as FALSE value'"
            ]
          },
          "metadata": {},
          "execution_count": 8
        }
      ]
    },
    {
      "cell_type": "code",
      "metadata": {
        "colab": {
          "base_uri": "https://localhost:8080/"
        },
        "id": "2BJwotNBvONl",
        "outputId": "0b158c3e-d9c0-4fe9-f684-5c41ee2c3319"
      },
      "source": [
        "#if expression:\n",
        "#   statement(s)\n",
        "\n",
        "var1 = 10\n",
        "if var1:\n",
        "  print('1 - we got a true value')\n",
        "  print(var1)\n",
        "\n",
        "var2 = 0\n",
        "if var2:\n",
        "  print('2 - we got a true value')\n",
        "  print(var2)\n",
        "print(\"Yo\")"
      ],
      "execution_count": 16,
      "outputs": [
        {
          "output_type": "stream",
          "name": "stdout",
          "text": [
            "1 - we got a true value\n",
            "10\n",
            "Yo\n"
          ]
        }
      ]
    },
    {
      "cell_type": "code",
      "metadata": {
        "colab": {
          "base_uri": "https://localhost:8080/",
          "height": 52
        },
        "id": "ydEG_DrOvXsK",
        "outputId": "86de7745-27f9-424c-f4e5-f5b86abd53db"
      },
      "source": [
        "\"\"\"An else statement can be combined with an if statement. \\\n",
        "An else statement contains a block of code that executes if the conditional expression in the if statement resolves to 0 or a FALSE value.\\\n",
        "The else statement is an optional statement and there could be at the most only one else statement following if.\"\"\""
      ],
      "execution_count": 20,
      "outputs": [
        {
          "output_type": "execute_result",
          "data": {
            "application/vnd.google.colaboratory.intrinsic+json": {
              "type": "string"
            },
            "text/plain": [
              "'An else statement can be combined with an if statement. An else statement contains a block of code that executes if the conditional expression in the if statement resolves to 0 or a FALSE value.The else statement is an optional statement and there could be at the most only one else statement following if.'"
            ]
          },
          "metadata": {},
          "execution_count": 20
        }
      ]
    },
    {
      "cell_type": "code",
      "metadata": {
        "colab": {
          "base_uri": "https://localhost:8080/"
        },
        "id": "hlJjSAClw1Tk",
        "outputId": "a3d91d3b-1923-491f-8958-725ef6814e90"
      },
      "source": [
        "#if expression:\n",
        "#  statement()\n",
        "#else:\n",
        "#  statement()\n",
        "\n",
        "amount = int(input('Enter the amount: '))\n",
        "\n",
        "if amount<500:\n",
        "  discount = 0.05*amount\n",
        "  print('Discount:',discount)\n",
        "else:\n",
        "  discount = .10*amount\n",
        "  print('Discount:',discount)\n",
        "\n",
        "print(\"Net Payable amount\", amount-discount)\n",
        "  "
      ],
      "execution_count": 26,
      "outputs": [
        {
          "output_type": "stream",
          "name": "stdout",
          "text": [
            "Enter the amount: 499\n",
            "Discount: 24.950000000000003\n",
            "Net Payable amount 474.05\n"
          ]
        }
      ]
    },
    {
      "cell_type": "code",
      "metadata": {
        "colab": {
          "base_uri": "https://localhost:8080/",
          "height": 69
        },
        "id": "MXjfg-VMxyGe",
        "outputId": "fbb4284f-639e-4dc2-a11b-0c048e85f96b"
      },
      "source": [
        "\"\"\"The elif Statement\\\n",
        "The elif statement allows you to check multiple expressions for TRUE and execute a block of code as soon as one of the conditions evaluates to TRUE.\\\n",
        "Similar to the else, the elif statement is optional.\\\n",
        "However, unlike else, for which there can be at the most one statement,\\\n",
        "there can be an arbitrary number of elif statements following an if.\"\"\""
      ],
      "execution_count": 30,
      "outputs": [
        {
          "output_type": "execute_result",
          "data": {
            "application/vnd.google.colaboratory.intrinsic+json": {
              "type": "string"
            },
            "text/plain": [
              "'The elif StatementThe elif statement allows you to check multiple expressions for TRUE and execute a block of code as soon as one of the conditions evaluates to TRUE.Similar to the else, the elif statement is optional.However, unlike else, for which there can be at the most one statement,there can be an arbitrary number of elif statements following an if.'"
            ]
          },
          "metadata": {},
          "execution_count": 30
        }
      ]
    },
    {
      "cell_type": "code",
      "metadata": {
        "colab": {
          "base_uri": "https://localhost:8080/"
        },
        "id": "AMGZJMw30q6i",
        "outputId": "bd07db6d-cabe-4551-8847-374e2171fc22"
      },
      "source": [
        "#if-elif-else statemet\n",
        "\n",
        "amount = int(input('Enter the amount: '))\n",
        "\n",
        "if amount<1000:\n",
        "  discount = 0.05*amount\n",
        "  print('Discount: ',discount)\n",
        "elif 1000<amount<1500:\n",
        "  discount = 0.07*amount\n",
        "  print('Discount: ',discount)\n",
        "else:\n",
        "  discount = .10*amount\n",
        "  print('Discount: ',discount)\n",
        "print('Final Payable amount is ',amount - discount)"
      ],
      "execution_count": 33,
      "outputs": [
        {
          "output_type": "stream",
          "name": "stdout",
          "text": [
            "Enter the amount: 1200\n",
            "Discount:  84.00000000000001\n",
            "Final Payable amount is  1116.0\n"
          ]
        }
      ]
    },
    {
      "cell_type": "code",
      "metadata": {
        "colab": {
          "base_uri": "https://localhost:8080/",
          "height": 52
        },
        "id": "aCKlRqoM2BPL",
        "outputId": "4e825228-5aa0-4a42-cee4-12b8a0b782c1"
      },
      "source": [
        "\"\"\"There may be a situation when you want to check for another condition after a condition resolves to true. In such a situation, you can use the nested if construct.\\\n",
        "In a nested if construct, you can have an if...elif...else construct inside another if...elif...else construct.\"\"\""
      ],
      "execution_count": 36,
      "outputs": [
        {
          "output_type": "execute_result",
          "data": {
            "application/vnd.google.colaboratory.intrinsic+json": {
              "type": "string"
            },
            "text/plain": [
              "'There may be a situation when you want to check for another condition after a condition resolves to true. In such a situation, you can use the nested if construct.In a nested if construct, you can have an if...elif...else construct inside another if...elif...else construct.'"
            ]
          },
          "metadata": {},
          "execution_count": 36
        }
      ]
    },
    {
      "cell_type": "code",
      "metadata": {
        "colab": {
          "base_uri": "https://localhost:8080/"
        },
        "id": "_QVRNTxT26k4",
        "outputId": "7cfebc5b-2744-4f72-e11d-21239c6b5704"
      },
      "source": [
        "number = int(input('Enter a number: '))\n",
        "\n",
        "if number%2==0:\n",
        "  if number%3==0:\n",
        "    print('The number is divisible by 2 and 3')\n",
        "  else:\n",
        "    print('The number is divisible by 2 but not by 3')\n",
        "else:\n",
        "  if number%3==0:\n",
        "    print('The number is divisible by 3 but not by 2')\n",
        "  else:\n",
        "    print('The number is neither divisible by 2 nor by 3')"
      ],
      "execution_count": 48,
      "outputs": [
        {
          "output_type": "stream",
          "name": "stdout",
          "text": [
            "Enter a number: 39\n",
            "The number is divisible by 3 but not by 2\n"
          ]
        }
      ]
    },
    {
      "cell_type": "code",
      "metadata": {
        "colab": {
          "base_uri": "https://localhost:8080/"
        },
        "id": "aE-4GX5C4MSr",
        "outputId": "fddd0865-131e-43dc-de41-09f9560006eb"
      },
      "source": [
        "number = int(input('Enter a number: '))\n",
        "\n",
        "if number%2==0:\n",
        "  if number%3==0:\n",
        "    print('The number is divisible by 2 and 3')\n",
        "  elif number%5==0:\n",
        "    print('The number is divisible by 3 and 5 but not by 2')\n",
        "  else:\n",
        "    print('The number is divisible by 2 but not by 3 and 5')\n",
        "else:\n",
        "  if number%3==0:\n",
        "    print('The number is divisible by 3 but not by 2 and 5')\n",
        "  else:\n",
        "    print('The number is neither divisible by 2 nor by 3 nor 5')"
      ],
      "execution_count": 46,
      "outputs": [
        {
          "output_type": "stream",
          "name": "stdout",
          "text": [
            "Enter a number: 37\n",
            "The number is neither divisible by 2 nor by 3 nor 5\n"
          ]
        }
      ]
    },
    {
      "cell_type": "code",
      "metadata": {
        "id": "aeT7OvsT49Dt"
      },
      "source": [
        ""
      ],
      "execution_count": null,
      "outputs": []
    }
  ]
}