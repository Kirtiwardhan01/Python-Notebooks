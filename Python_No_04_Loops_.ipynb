{
  "nbformat": 4,
  "nbformat_minor": 0,
  "metadata": {
    "colab": {
      "name": "Python_No 04 - Loops .ipynb",
      "provenance": [],
      "collapsed_sections": [],
      "authorship_tag": "ABX9TyPn0xW1XMCQubpVAA4l4iNY",
      "include_colab_link": true
    },
    "kernelspec": {
      "name": "python3",
      "display_name": "Python 3"
    },
    "language_info": {
      "name": "python"
    }
  },
  "cells": [
    {
      "cell_type": "markdown",
      "metadata": {
        "id": "view-in-github",
        "colab_type": "text"
      },
      "source": [
        "<a href=\"https://colab.research.google.com/github/Kirtiwardhan01/Python-Notebooks/blob/main/Python_No_04_Loops_.ipynb\" target=\"_parent\"><img src=\"https://colab.research.google.com/assets/colab-badge.svg\" alt=\"Open In Colab\"/></a>"
      ]
    },
    {
      "cell_type": "code",
      "metadata": {
        "colab": {
          "base_uri": "https://localhost:8080/",
          "height": 69
        },
        "id": "dImo3-Fl_NuH",
        "outputId": "a8217bee-f1da-4d8c-a502-6f41cf94dfd9"
      },
      "source": [
        "\"\"\"In general, statements are executed sequentially − The first statement in a function is executed first, followed by the second, and so on. There may be a situation when you need to execute a block of code several number of times.\\\n",
        "Programming languages provide various control structures that allow more complicated execution paths.\\\n",
        "A loop statement allows us to execute a statement or group of statements multiple times\"\"\""
      ],
      "execution_count": 1,
      "outputs": [
        {
          "output_type": "execute_result",
          "data": {
            "application/vnd.google.colaboratory.intrinsic+json": {
              "type": "string"
            },
            "text/plain": [
              "'In general, statements are executed sequentially − The first statement in a function is executed first, followed by the second, and so on. There may be a situation when you need to execute a block of code several number of times.Programming languages provide various control structures that allow more complicated execution paths.A loop statement allows us to execute a statement or group of statements multiple times'"
            ]
          },
          "metadata": {},
          "execution_count": 1
        }
      ]
    },
    {
      "cell_type": "code",
      "metadata": {
        "colab": {
          "base_uri": "https://localhost:8080/",
          "height": 35
        },
        "id": "jdmtZgxq_TeG",
        "outputId": "900238db-5e8b-4228-e906-2bf4487f3bd0"
      },
      "source": [
        "\"\"\"while loop-\\\n",
        "Repeats a statement or group of statements while a given condition is TRUE. It tests the condition before executing the loop body.\"\"\""
      ],
      "execution_count": 2,
      "outputs": [
        {
          "output_type": "execute_result",
          "data": {
            "application/vnd.google.colaboratory.intrinsic+json": {
              "type": "string"
            },
            "text/plain": [
              "'while loop-Repeats a statement or group of statements while a given condition is TRUE. It tests the condition before executing the loop body.'"
            ]
          },
          "metadata": {},
          "execution_count": 2
        }
      ]
    },
    {
      "cell_type": "code",
      "metadata": {
        "colab": {
          "base_uri": "https://localhost:8080/",
          "height": 35
        },
        "id": "cJKy_U0n_euE",
        "outputId": "8631255c-a47a-4581-9068-2da613b8102c"
      },
      "source": [
        "\"\"\"A while loop statement in Python programming language repeatedly executes a target statement as long as a given condition is true\"\"\""
      ],
      "execution_count": 3,
      "outputs": [
        {
          "output_type": "execute_result",
          "data": {
            "application/vnd.google.colaboratory.intrinsic+json": {
              "type": "string"
            },
            "text/plain": [
              "'A while loop statement in Python programming language repeatedly executes a target statement as long as a given condition is true'"
            ]
          },
          "metadata": {},
          "execution_count": 3
        }
      ]
    },
    {
      "cell_type": "code",
      "metadata": {
        "colab": {
          "base_uri": "https://localhost:8080/"
        },
        "id": "nkd58HVM_0Pi",
        "outputId": "b95897f8-6ab4-49fa-c1a6-09d7bfe46bb0"
      },
      "source": [
        "#Example\n",
        "\n",
        "count = 0\n",
        "while (count<10):\n",
        "  print('The count is ',count)\n",
        "  count = count + 1 \n",
        "\n",
        "print(\"We're done with counting\")"
      ],
      "execution_count": 4,
      "outputs": [
        {
          "output_type": "stream",
          "name": "stdout",
          "text": [
            "The count is  0\n",
            "The count is  1\n",
            "The count is  2\n",
            "The count is  3\n",
            "The count is  4\n",
            "The count is  5\n",
            "The count is  6\n",
            "The count is  7\n",
            "The count is  8\n",
            "The count is  9\n",
            "We're done with counting\n"
          ]
        }
      ]
    },
    {
      "cell_type": "code",
      "metadata": {
        "colab": {
          "base_uri": "https://localhost:8080/",
          "height": 69
        },
        "id": "tlPkpv0LAdcZ",
        "outputId": "8699c6a9-dab5-4ad9-aaf4-6872860af49d"
      },
      "source": [
        "#The Infinite Loop\n",
        "\"\"\"A loop becomes infinite loop if a condition never becomes FALSE. You must be cautious when using while loops because of the possibility that this condition never resolves to a FALSE value. This results in a loop that never ends. Such a loop is called an infinite loop.\\\n",
        "An infinite loop might be useful in client/server programming where the server needs to run continuously so that client programs can communicate with it as and when required\"\"\""
      ],
      "execution_count": 5,
      "outputs": [
        {
          "output_type": "execute_result",
          "data": {
            "application/vnd.google.colaboratory.intrinsic+json": {
              "type": "string"
            },
            "text/plain": [
              "'A loop becomes infinite loop if a condition never becomes FALSE. You must be cautious when using while loops because of the possibility that this condition never resolves to a FALSE value. This results in a loop that never ends. Such a loop is called an infinite loop.An infinite loop might be useful in client/server programming where the server needs to run continuously so that client programs can communicate with it as and when required'"
            ]
          },
          "metadata": {},
          "execution_count": 5
        }
      ]
    },
    {
      "cell_type": "code",
      "metadata": {
        "colab": {
          "base_uri": "https://localhost:8080/",
          "height": 561
        },
        "id": "uAWLomMnBOQI",
        "outputId": "b2c4c8cc-79b6-4ef4-d8af-da81b3a1f83a"
      },
      "source": [
        "#The Infinite Loop\n",
        "var1 = 1\n",
        "while var1==1:\n",
        "  num = int((input('Enter the num: ')))\n",
        "  print('You entered the num',num)\n",
        "\n",
        "print('Done!')\n",
        "\n",
        "#The above example goes in an infinite loop and you need to use CTRL+C to exit the program\\"
      ],
      "execution_count": 6,
      "outputs": [
        {
          "output_type": "stream",
          "name": "stdout",
          "text": [
            "Enter the num: 4\n",
            "You entered the num 4\n"
          ]
        },
        {
          "output_type": "error",
          "ename": "KeyboardInterrupt",
          "evalue": "ignored",
          "traceback": [
            "\u001b[0;31m---------------------------------------------------------------------------\u001b[0m",
            "\u001b[0;31mKeyboardInterrupt\u001b[0m                         Traceback (most recent call last)",
            "\u001b[0;32m/usr/local/lib/python3.7/dist-packages/ipykernel/kernelbase.py\u001b[0m in \u001b[0;36m_input_request\u001b[0;34m(self, prompt, ident, parent, password)\u001b[0m\n\u001b[1;32m    728\u001b[0m             \u001b[0;32mtry\u001b[0m\u001b[0;34m:\u001b[0m\u001b[0;34m\u001b[0m\u001b[0;34m\u001b[0m\u001b[0m\n\u001b[0;32m--> 729\u001b[0;31m                 \u001b[0mident\u001b[0m\u001b[0;34m,\u001b[0m \u001b[0mreply\u001b[0m \u001b[0;34m=\u001b[0m \u001b[0mself\u001b[0m\u001b[0;34m.\u001b[0m\u001b[0msession\u001b[0m\u001b[0;34m.\u001b[0m\u001b[0mrecv\u001b[0m\u001b[0;34m(\u001b[0m\u001b[0mself\u001b[0m\u001b[0;34m.\u001b[0m\u001b[0mstdin_socket\u001b[0m\u001b[0;34m,\u001b[0m \u001b[0;36m0\u001b[0m\u001b[0;34m)\u001b[0m\u001b[0;34m\u001b[0m\u001b[0;34m\u001b[0m\u001b[0m\n\u001b[0m\u001b[1;32m    730\u001b[0m             \u001b[0;32mexcept\u001b[0m \u001b[0mException\u001b[0m\u001b[0;34m:\u001b[0m\u001b[0;34m\u001b[0m\u001b[0;34m\u001b[0m\u001b[0m\n",
            "\u001b[0;32m/usr/local/lib/python3.7/dist-packages/jupyter_client/session.py\u001b[0m in \u001b[0;36mrecv\u001b[0;34m(self, socket, mode, content, copy)\u001b[0m\n\u001b[1;32m    802\u001b[0m         \u001b[0;32mtry\u001b[0m\u001b[0;34m:\u001b[0m\u001b[0;34m\u001b[0m\u001b[0;34m\u001b[0m\u001b[0m\n\u001b[0;32m--> 803\u001b[0;31m             \u001b[0mmsg_list\u001b[0m \u001b[0;34m=\u001b[0m \u001b[0msocket\u001b[0m\u001b[0;34m.\u001b[0m\u001b[0mrecv_multipart\u001b[0m\u001b[0;34m(\u001b[0m\u001b[0mmode\u001b[0m\u001b[0;34m,\u001b[0m \u001b[0mcopy\u001b[0m\u001b[0;34m=\u001b[0m\u001b[0mcopy\u001b[0m\u001b[0;34m)\u001b[0m\u001b[0;34m\u001b[0m\u001b[0;34m\u001b[0m\u001b[0m\n\u001b[0m\u001b[1;32m    804\u001b[0m         \u001b[0;32mexcept\u001b[0m \u001b[0mzmq\u001b[0m\u001b[0;34m.\u001b[0m\u001b[0mZMQError\u001b[0m \u001b[0;32mas\u001b[0m \u001b[0me\u001b[0m\u001b[0;34m:\u001b[0m\u001b[0;34m\u001b[0m\u001b[0;34m\u001b[0m\u001b[0m\n",
            "\u001b[0;32m/usr/local/lib/python3.7/dist-packages/zmq/sugar/socket.py\u001b[0m in \u001b[0;36mrecv_multipart\u001b[0;34m(self, flags, copy, track)\u001b[0m\n\u001b[1;32m    618\u001b[0m         \"\"\"\n\u001b[0;32m--> 619\u001b[0;31m         \u001b[0mparts\u001b[0m \u001b[0;34m=\u001b[0m \u001b[0;34m[\u001b[0m\u001b[0mself\u001b[0m\u001b[0;34m.\u001b[0m\u001b[0mrecv\u001b[0m\u001b[0;34m(\u001b[0m\u001b[0mflags\u001b[0m\u001b[0;34m,\u001b[0m \u001b[0mcopy\u001b[0m\u001b[0;34m=\u001b[0m\u001b[0mcopy\u001b[0m\u001b[0;34m,\u001b[0m \u001b[0mtrack\u001b[0m\u001b[0;34m=\u001b[0m\u001b[0mtrack\u001b[0m\u001b[0;34m)\u001b[0m\u001b[0;34m]\u001b[0m\u001b[0;34m\u001b[0m\u001b[0;34m\u001b[0m\u001b[0m\n\u001b[0m\u001b[1;32m    620\u001b[0m         \u001b[0;31m# have first part already, only loop while more to receive\u001b[0m\u001b[0;34m\u001b[0m\u001b[0;34m\u001b[0m\u001b[0;34m\u001b[0m\u001b[0m\n",
            "\u001b[0;32mzmq/backend/cython/socket.pyx\u001b[0m in \u001b[0;36mzmq.backend.cython.socket.Socket.recv\u001b[0;34m()\u001b[0m\n",
            "\u001b[0;32mzmq/backend/cython/socket.pyx\u001b[0m in \u001b[0;36mzmq.backend.cython.socket.Socket.recv\u001b[0;34m()\u001b[0m\n",
            "\u001b[0;32mzmq/backend/cython/socket.pyx\u001b[0m in \u001b[0;36mzmq.backend.cython.socket._recv_copy\u001b[0;34m()\u001b[0m\n",
            "\u001b[0;32m/usr/local/lib/python3.7/dist-packages/zmq/backend/cython/checkrc.pxd\u001b[0m in \u001b[0;36mzmq.backend.cython.checkrc._check_rc\u001b[0;34m()\u001b[0m\n",
            "\u001b[0;31mKeyboardInterrupt\u001b[0m: ",
            "\nDuring handling of the above exception, another exception occurred:\n",
            "\u001b[0;31mKeyboardInterrupt\u001b[0m                         Traceback (most recent call last)",
            "\u001b[0;32m<ipython-input-6-04cf24d84181>\u001b[0m in \u001b[0;36m<module>\u001b[0;34m()\u001b[0m\n\u001b[1;32m      2\u001b[0m \u001b[0mvar1\u001b[0m \u001b[0;34m=\u001b[0m \u001b[0;36m1\u001b[0m\u001b[0;34m\u001b[0m\u001b[0;34m\u001b[0m\u001b[0m\n\u001b[1;32m      3\u001b[0m \u001b[0;32mwhile\u001b[0m \u001b[0mvar1\u001b[0m\u001b[0;34m==\u001b[0m\u001b[0;36m1\u001b[0m\u001b[0;34m:\u001b[0m\u001b[0;34m\u001b[0m\u001b[0;34m\u001b[0m\u001b[0m\n\u001b[0;32m----> 4\u001b[0;31m   \u001b[0mnum\u001b[0m \u001b[0;34m=\u001b[0m \u001b[0mint\u001b[0m\u001b[0;34m(\u001b[0m\u001b[0;34m(\u001b[0m\u001b[0minput\u001b[0m\u001b[0;34m(\u001b[0m\u001b[0;34m'Enter the num: '\u001b[0m\u001b[0;34m)\u001b[0m\u001b[0;34m)\u001b[0m\u001b[0;34m)\u001b[0m\u001b[0;34m\u001b[0m\u001b[0;34m\u001b[0m\u001b[0m\n\u001b[0m\u001b[1;32m      5\u001b[0m   \u001b[0mprint\u001b[0m\u001b[0;34m(\u001b[0m\u001b[0;34m'You entered the num'\u001b[0m\u001b[0;34m,\u001b[0m\u001b[0mnum\u001b[0m\u001b[0;34m)\u001b[0m\u001b[0;34m\u001b[0m\u001b[0;34m\u001b[0m\u001b[0m\n\u001b[1;32m      6\u001b[0m \u001b[0;34m\u001b[0m\u001b[0m\n",
            "\u001b[0;32m/usr/local/lib/python3.7/dist-packages/ipykernel/kernelbase.py\u001b[0m in \u001b[0;36mraw_input\u001b[0;34m(self, prompt)\u001b[0m\n\u001b[1;32m    702\u001b[0m             \u001b[0mself\u001b[0m\u001b[0;34m.\u001b[0m\u001b[0m_parent_ident\u001b[0m\u001b[0;34m,\u001b[0m\u001b[0;34m\u001b[0m\u001b[0;34m\u001b[0m\u001b[0m\n\u001b[1;32m    703\u001b[0m             \u001b[0mself\u001b[0m\u001b[0;34m.\u001b[0m\u001b[0m_parent_header\u001b[0m\u001b[0;34m,\u001b[0m\u001b[0;34m\u001b[0m\u001b[0;34m\u001b[0m\u001b[0m\n\u001b[0;32m--> 704\u001b[0;31m             \u001b[0mpassword\u001b[0m\u001b[0;34m=\u001b[0m\u001b[0;32mFalse\u001b[0m\u001b[0;34m,\u001b[0m\u001b[0;34m\u001b[0m\u001b[0;34m\u001b[0m\u001b[0m\n\u001b[0m\u001b[1;32m    705\u001b[0m         )\n\u001b[1;32m    706\u001b[0m \u001b[0;34m\u001b[0m\u001b[0m\n",
            "\u001b[0;32m/usr/local/lib/python3.7/dist-packages/ipykernel/kernelbase.py\u001b[0m in \u001b[0;36m_input_request\u001b[0;34m(self, prompt, ident, parent, password)\u001b[0m\n\u001b[1;32m    732\u001b[0m             \u001b[0;32mexcept\u001b[0m \u001b[0mKeyboardInterrupt\u001b[0m\u001b[0;34m:\u001b[0m\u001b[0;34m\u001b[0m\u001b[0;34m\u001b[0m\u001b[0m\n\u001b[1;32m    733\u001b[0m                 \u001b[0;31m# re-raise KeyboardInterrupt, to truncate traceback\u001b[0m\u001b[0;34m\u001b[0m\u001b[0;34m\u001b[0m\u001b[0;34m\u001b[0m\u001b[0m\n\u001b[0;32m--> 734\u001b[0;31m                 \u001b[0;32mraise\u001b[0m \u001b[0mKeyboardInterrupt\u001b[0m\u001b[0;34m\u001b[0m\u001b[0;34m\u001b[0m\u001b[0m\n\u001b[0m\u001b[1;32m    735\u001b[0m             \u001b[0;32melse\u001b[0m\u001b[0;34m:\u001b[0m\u001b[0;34m\u001b[0m\u001b[0;34m\u001b[0m\u001b[0m\n\u001b[1;32m    736\u001b[0m                 \u001b[0;32mbreak\u001b[0m\u001b[0;34m\u001b[0m\u001b[0;34m\u001b[0m\u001b[0m\n",
            "\u001b[0;31mKeyboardInterrupt\u001b[0m: "
          ]
        }
      ]
    },
    {
      "cell_type": "code",
      "metadata": {
        "colab": {
          "base_uri": "https://localhost:8080/",
          "height": 52
        },
        "id": "Zn6K2jQNCfKD",
        "outputId": "3e43a8ba-69bb-4b6c-c83e-f7a22be0f21f"
      },
      "source": [
        "#Using else Statement with Loops\n",
        "\"\"\"Python supports having an else statement associated with a loop statement.\\\n",
        "If the else statement is used with a for loop, the else statement is executed when the loop has exhausted iterating the list.\\\n",
        "If the else statement is used with a while loop, the else statement is executed when the condition becomes false\"\"\""
      ],
      "execution_count": 7,
      "outputs": [
        {
          "output_type": "execute_result",
          "data": {
            "application/vnd.google.colaboratory.intrinsic+json": {
              "type": "string"
            },
            "text/plain": [
              "'Python supports having an else statement associated with a loop statement.If the else statement is used with a for loop, the else statement is executed when the loop has exhausted iterating the list.If the else statement is used with a while loop, the else statement is executed when the condition becomes false'"
            ]
          },
          "metadata": {},
          "execution_count": 7
        }
      ]
    },
    {
      "cell_type": "code",
      "metadata": {
        "colab": {
          "base_uri": "https://localhost:8080/"
        },
        "id": "0IEIz5xIDcc_",
        "outputId": "7e8553bd-0600-481d-f2b1-4f2a7aca4e6d"
      },
      "source": [
        "count = 0\n",
        "\n",
        "while count < 7:\n",
        "  print(count, 'is less than 7')\n",
        "  count = count + 1\n",
        "else:\n",
        "  print(count, 'is not less than 7') "
      ],
      "execution_count": 8,
      "outputs": [
        {
          "output_type": "stream",
          "name": "stdout",
          "text": [
            "0 is less than 7\n",
            "1 is less than 7\n",
            "2 is less than 7\n",
            "3 is less than 7\n",
            "4 is less than 7\n",
            "5 is less than 7\n",
            "6 is less than 7\n",
            "7 is not less than 7\n"
          ]
        }
      ]
    },
    {
      "cell_type": "code",
      "metadata": {
        "colab": {
          "base_uri": "https://localhost:8080/"
        },
        "id": "UdjNjnNwEott",
        "outputId": "9c8faa28-0fdc-4d4b-a9aa-c286d075e798"
      },
      "source": [
        "race = 0\n",
        "\n",
        "while race<5:\n",
        "  print(race,'The race is on')\n",
        "  race = race + 1\n",
        "else:\n",
        "  print(race,'The race is over')"
      ],
      "execution_count": 9,
      "outputs": [
        {
          "output_type": "stream",
          "name": "stdout",
          "text": [
            "0 The race is on\n",
            "1 The race is on\n",
            "2 The race is on\n",
            "3 The race is on\n",
            "4 The race is on\n",
            "5 The race is over\n"
          ]
        }
      ]
    },
    {
      "cell_type": "code",
      "metadata": {
        "colab": {
          "base_uri": "https://localhost:8080/",
          "height": 69
        },
        "id": "7IU3pW87F3k5",
        "outputId": "f91c2e55-21de-464a-e35f-b4ea979f3ee6"
      },
      "source": [
        "\"\"\"The for statement in Python has the ability to iterate over the items of any sequence, such as a list or a string. \\\n",
        "The built-in function range() is the right function to iterate over a sequence of numbers.\\\n",
        "It generates an iterator of arithmetic progression.\\\n",
        "range() generates an iterator to progress integers starting with 0 upto n-1\"\"\""
      ],
      "execution_count": 10,
      "outputs": [
        {
          "output_type": "execute_result",
          "data": {
            "application/vnd.google.colaboratory.intrinsic+json": {
              "type": "string"
            },
            "text/plain": [
              "'The for statement in Python has the ability to iterate over the items of any sequence, such as a list or a string. The built-in function range() is the right function to iterate over a sequence of numbers.It generates an iterator of arithmetic progression.range() generates an iterator to progress integers starting with 0 upto n-1'"
            ]
          },
          "metadata": {},
          "execution_count": 10
        }
      ]
    },
    {
      "cell_type": "code",
      "metadata": {
        "colab": {
          "base_uri": "https://localhost:8080/"
        },
        "id": "jNr098eALGIi",
        "outputId": "38b54b38-89cd-4027-c016-131dc18a7b20"
      },
      "source": [
        "range(5)\n",
        "list(range(0,9))\n",
        "\n",
        "for variable in list(range(0,9)):\n",
        "  print(variable)\n",
        "print('\\n')\n",
        "for variable in list(range(4)):\n",
        "  print(variable)"
      ],
      "execution_count": 11,
      "outputs": [
        {
          "output_type": "stream",
          "name": "stdout",
          "text": [
            "0\n",
            "1\n",
            "2\n",
            "3\n",
            "4\n",
            "5\n",
            "6\n",
            "7\n",
            "8\n",
            "\n",
            "\n",
            "0\n",
            "1\n",
            "2\n",
            "3\n"
          ]
        }
      ]
    },
    {
      "cell_type": "code",
      "metadata": {
        "colab": {
          "base_uri": "https://localhost:8080/"
        },
        "id": "Ljen2_JjLtWU",
        "outputId": "09958ef6-a158-402d-a13d-afd0ac25cf58"
      },
      "source": [
        "for letter in 'Thinktank':            ## traversal of a string sequence\n",
        "  print('Current letter is ',letter)\n",
        "\n",
        "fruits = ['mango','cherries','guava','sweetlime','grapes']\n",
        "print('\\n')\n",
        "for fruit in fruits:                  # traversal of a list sequence\n",
        "  print('I like ', fruit, 'a lot')\n",
        "\n",
        "print('Done')"
      ],
      "execution_count": 12,
      "outputs": [
        {
          "output_type": "stream",
          "name": "stdout",
          "text": [
            "Current letter is  T\n",
            "Current letter is  h\n",
            "Current letter is  i\n",
            "Current letter is  n\n",
            "Current letter is  k\n",
            "Current letter is  t\n",
            "Current letter is  a\n",
            "Current letter is  n\n",
            "Current letter is  k\n",
            "\n",
            "\n",
            "I like  mango a lot\n",
            "I like  cherries a lot\n",
            "I like  guava a lot\n",
            "I like  sweetlime a lot\n",
            "I like  grapes a lot\n",
            "Done\n"
          ]
        }
      ]
    },
    {
      "cell_type": "code",
      "metadata": {
        "colab": {
          "base_uri": "https://localhost:8080/",
          "height": 35
        },
        "id": "oel9TcSJMdi2",
        "outputId": "a72d1c10-d532-41e5-ea89-a69fcd6b9d0f"
      },
      "source": [
        "#Iterating by Sequence Index\n",
        "\"An alternative way of iterating through each item is by index offset into the sequence itself. Following is a simple example −\""
      ],
      "execution_count": 13,
      "outputs": [
        {
          "output_type": "execute_result",
          "data": {
            "application/vnd.google.colaboratory.intrinsic+json": {
              "type": "string"
            },
            "text/plain": [
              "'An alternative way of iterating through each item is by index offset into the sequence itself. Following is a simple example −'"
            ]
          },
          "metadata": {},
          "execution_count": 13
        }
      ]
    },
    {
      "cell_type": "code",
      "metadata": {
        "colab": {
          "base_uri": "https://localhost:8080/"
        },
        "id": "CCBK8GoTNM_Q",
        "outputId": "058631bf-612f-4562-e4eb-ab3f725c9cf5"
      },
      "source": [
        "fruits = ['mango','cherries','guava','sweetlime','grapes']\n",
        "\n",
        "for index in range(len(fruits)):\n",
        "  print('Current fruit is ',fruits[index])\n",
        "\n",
        "print('Good!')"
      ],
      "execution_count": 14,
      "outputs": [
        {
          "output_type": "stream",
          "name": "stdout",
          "text": [
            "Current fruit is  mango\n",
            "Current fruit is  cherries\n",
            "Current fruit is  guava\n",
            "Current fruit is  sweetlime\n",
            "Current fruit is  grapes\n",
            "Good!\n"
          ]
        }
      ]
    },
    {
      "cell_type": "code",
      "metadata": {
        "colab": {
          "base_uri": "https://localhost:8080/",
          "height": 69
        },
        "id": "JzgheCGKNl-F",
        "outputId": "d8bebbcf-46ab-4f57-b471-fd00240b934e"
      },
      "source": [
        "#Using else Statement with Loops\n",
        "\n",
        "\"\"\"Python supports having an else statement associated with a loop statement.\\\n",
        "If the else statement is used with a for loop, the else block is executed only if for loops terminates normally (and not by encountering break statement).\\\n",
        "If the else statement is used with a while loop, the else statement is executed when the condition becomes false\"\"\""
      ],
      "execution_count": 15,
      "outputs": [
        {
          "output_type": "execute_result",
          "data": {
            "application/vnd.google.colaboratory.intrinsic+json": {
              "type": "string"
            },
            "text/plain": [
              "'Python supports having an else statement associated with a loop statement.If the else statement is used with a for loop, the else block is executed only if for loops terminates normally (and not by encountering break statement).If the else statement is used with a while loop, the else statement is executed when the condition becomes false'"
            ]
          },
          "metadata": {},
          "execution_count": 15
        }
      ]
    },
    {
      "cell_type": "code",
      "metadata": {
        "colab": {
          "base_uri": "https://localhost:8080/"
        },
        "id": "DU7s4THnOyps",
        "outputId": "a72e221d-ecf4-4399-e90b-65601ef71e9e"
      },
      "source": [
        "number = int(input('Enter a number '))\n",
        "\n",
        "if num%2==0:\n",
        "  print('We have an even number')\n",
        "else:\n",
        "  print('We do not have an even number')"
      ],
      "execution_count": 16,
      "outputs": [
        {
          "output_type": "stream",
          "name": "stdout",
          "text": [
            "Enter a number 4\n",
            "We have an even number\n"
          ]
        }
      ]
    },
    {
      "cell_type": "code",
      "metadata": {
        "colab": {
          "base_uri": "https://localhost:8080/"
        },
        "id": "RPi3Ht-cPJjg",
        "outputId": "92e4cc43-5fa3-4e6f-d4dc-b7d816d40eee"
      },
      "source": [
        "#Nested loops\n",
        "import sys\n",
        "\n",
        "for i in range(0,11):\n",
        "  for j in range(0,11):\n",
        "    k = i*j\n",
        "    print(k, end=' ')\n",
        "  print()"
      ],
      "execution_count": 17,
      "outputs": [
        {
          "output_type": "stream",
          "name": "stdout",
          "text": [
            "0 0 0 0 0 0 0 0 0 0 0 \n",
            "0 1 2 3 4 5 6 7 8 9 10 \n",
            "0 2 4 6 8 10 12 14 16 18 20 \n",
            "0 3 6 9 12 15 18 21 24 27 30 \n",
            "0 4 8 12 16 20 24 28 32 36 40 \n",
            "0 5 10 15 20 25 30 35 40 45 50 \n",
            "0 6 12 18 24 30 36 42 48 54 60 \n",
            "0 7 14 21 28 35 42 49 56 63 70 \n",
            "0 8 16 24 32 40 48 56 64 72 80 \n",
            "0 9 18 27 36 45 54 63 72 81 90 \n",
            "0 10 20 30 40 50 60 70 80 90 100 \n"
          ]
        }
      ]
    },
    {
      "cell_type": "code",
      "metadata": {
        "colab": {
          "base_uri": "https://localhost:8080/"
        },
        "id": "n6zsnn8mRKmn",
        "outputId": "e1c9e18a-e7f6-4a97-d32c-cbc4d8ea1f3c"
      },
      "source": [
        "for i in range(1,11):\n",
        "   for j in range(1,11):\n",
        "      k = i*j\n",
        "      print (k, end=' ')\n",
        "   print()"
      ],
      "execution_count": 18,
      "outputs": [
        {
          "output_type": "stream",
          "name": "stdout",
          "text": [
            "1 2 3 4 5 6 7 8 9 10 \n",
            "2 4 6 8 10 12 14 16 18 20 \n",
            "3 6 9 12 15 18 21 24 27 30 \n",
            "4 8 12 16 20 24 28 32 36 40 \n",
            "5 10 15 20 25 30 35 40 45 50 \n",
            "6 12 18 24 30 36 42 48 54 60 \n",
            "7 14 21 28 35 42 49 56 63 70 \n",
            "8 16 24 32 40 48 56 64 72 80 \n",
            "9 18 27 36 45 54 63 72 81 90 \n",
            "10 20 30 40 50 60 70 80 90 100 \n"
          ]
        }
      ]
    },
    {
      "cell_type": "code",
      "metadata": {
        "colab": {
          "base_uri": "https://localhost:8080/",
          "height": 52
        },
        "id": "mFQBR9uJRfUr",
        "outputId": "f9e949ed-f8d2-4cca-aa73-f39380b35c89"
      },
      "source": [
        "#Loop Control Statements\n",
        "\"\"\"The Loop control statements change the execution from its normal sequence. \\\n",
        "When the execution leaves a scope, all automatic objects that were created in that scope are destroyed.\"\"\""
      ],
      "execution_count": 19,
      "outputs": [
        {
          "output_type": "execute_result",
          "data": {
            "application/vnd.google.colaboratory.intrinsic+json": {
              "type": "string"
            },
            "text/plain": [
              "'The Loop control statements change the execution from its normal sequence. When the execution leaves a scope, all automatic objects that were created in that scope are destroyed.'"
            ]
          },
          "metadata": {},
          "execution_count": 19
        }
      ]
    },
    {
      "cell_type": "code",
      "metadata": {
        "colab": {
          "base_uri": "https://localhost:8080/"
        },
        "id": "YLxXdANoR9LE",
        "outputId": "e2ef7d62-f030-4319-b877-ab68c0371986"
      },
      "source": [
        "number = [1,2,3,4,5,6,7,8,9,10,11,12,13,14,15]\n",
        "\n",
        "for num in number:\n",
        "  if num%2==0:\n",
        "    print('The list contains an even number')\n",
        "    break\n",
        "else:\n",
        "  print('The list does not contain an even number')"
      ],
      "execution_count": 20,
      "outputs": [
        {
          "output_type": "stream",
          "name": "stdout",
          "text": [
            "The list contains an even number\n"
          ]
        }
      ]
    },
    {
      "cell_type": "code",
      "metadata": {
        "colab": {
          "base_uri": "https://localhost:8080/"
        },
        "id": "vv_c36nESP44",
        "outputId": "72206239-1b15-47d5-cbb7-90146676dbb3"
      },
      "source": [
        "for letter in 'Hello':\n",
        "  if letter == 'o':\n",
        "    break\n",
        "  print('The letter is ',letter)\n",
        " \n",
        "x = 7\n",
        "while x>0:\n",
        "  print('Value is ',x)\n",
        "  x = x-1\n",
        "  if x ==4:\n",
        "    break\n"
      ],
      "execution_count": 21,
      "outputs": [
        {
          "output_type": "stream",
          "name": "stdout",
          "text": [
            "The letter is  H\n",
            "The letter is  e\n",
            "The letter is  l\n",
            "The letter is  l\n",
            "Value is  7\n",
            "Value is  6\n",
            "Value is  5\n"
          ]
        }
      ]
    },
    {
      "cell_type": "code",
      "metadata": {
        "id": "dZBnJE3vSrOR",
        "colab": {
          "base_uri": "https://localhost:8080/",
          "height": 52
        },
        "outputId": "83121ef7-f310-4b69-c619-8be24c1ae2cf"
      },
      "source": [
        "\"\"\"The following program demonstrates use of the break in a for loop iterating over a list. User inputs a number, which is searched in the list. If it is found, then the loop terminates with the 'found' message.\"\"\""
      ],
      "execution_count": 22,
      "outputs": [
        {
          "output_type": "execute_result",
          "data": {
            "application/vnd.google.colaboratory.intrinsic+json": {
              "type": "string"
            },
            "text/plain": [
              "\"The following program demonstrates use of the break in a for loop iterating over a list. User inputs a number, which is searched in the list. If it is found, then the loop terminates with the 'found' message.\""
            ]
          },
          "metadata": {},
          "execution_count": 22
        }
      ]
    },
    {
      "cell_type": "code",
      "metadata": {
        "colab": {
          "base_uri": "https://localhost:8080/"
        },
        "id": "qGYzMDdx5yYN",
        "outputId": "d677af2d-ae12-4f1f-9f11-f41cb6bd9bbd"
      },
      "source": [
        "number = int(input('Enter a number: '))\n",
        "\n",
        "number_list = [1,3,5,7,9,10,8,6,4,2]\n",
        "\n",
        "for num in number_list:\n",
        "  if num == number:\n",
        "    print('Number found in the list')\n",
        "    break\n",
        "else:\n",
        "  print('Number not found in the list ')\n",
        "\n",
        "print(\"We're done!\")\n"
      ],
      "execution_count": 27,
      "outputs": [
        {
          "output_type": "stream",
          "name": "stdout",
          "text": [
            "Enter a number: 11\n",
            "Number not found in the list \n",
            "We're done!\n"
          ]
        }
      ]
    },
    {
      "cell_type": "code",
      "metadata": {
        "colab": {
          "base_uri": "https://localhost:8080/",
          "height": 52
        },
        "id": "Fx9H-t6_6ouL",
        "outputId": "9851d53e-5678-46e1-b0f8-16ed720302f0"
      },
      "source": [
        "#continue statement\n",
        "\n",
        "\"\"\"The continue statement in Python returns the control to the beginning of the current loop. When encountered, the loop starts next iteration without executing the remaining statements in the current iteration.\\\n",
        "The continue statement can be used in both while and for loops\"\"\""
      ],
      "execution_count": 29,
      "outputs": [
        {
          "output_type": "execute_result",
          "data": {
            "application/vnd.google.colaboratory.intrinsic+json": {
              "type": "string"
            },
            "text/plain": [
              "'The continue statement in Python returns the control to the beginning of the current loop. When encountered, the loop starts next iteration without executing the remaining statements in the current iteration.The continue statement can be used in both while and for loops'"
            ]
          },
          "metadata": {},
          "execution_count": 29
        }
      ]
    },
    {
      "cell_type": "code",
      "metadata": {
        "colab": {
          "base_uri": "https://localhost:8080/"
        },
        "id": "R7pm0uaS8ScJ",
        "outputId": "65736b6b-9aa9-47cd-c2cf-0aa3f615402c"
      },
      "source": [
        "for word in 'Kirti':\n",
        "  if word == 't':\n",
        "    continue\n",
        "  print('Current word is: ', word)"
      ],
      "execution_count": 37,
      "outputs": [
        {
          "output_type": "stream",
          "name": "stdout",
          "text": [
            "Current word is:  K\n",
            "Current word is:  i\n",
            "Current word is:  r\n",
            "Current word is:  i\n"
          ]
        }
      ]
    },
    {
      "cell_type": "code",
      "metadata": {
        "colab": {
          "base_uri": "https://localhost:8080/"
        },
        "id": "N7dQl6YO_wvn",
        "outputId": "afd05cde-986c-4902-90ad-eab8e7db08f3"
      },
      "source": [
        "var1 = 10\n",
        "\n",
        "while var1>0:\n",
        "  var1 = var1-1\n",
        "  if var1==4:\n",
        "    continue\n",
        "  print('The current value is ',var1)\n",
        "\n",
        "print('OK')"
      ],
      "execution_count": 39,
      "outputs": [
        {
          "output_type": "stream",
          "name": "stdout",
          "text": [
            "The current value is  9\n",
            "The current value is  8\n",
            "The current value is  7\n",
            "The current value is  6\n",
            "The current value is  5\n",
            "The current value is  3\n",
            "The current value is  2\n",
            "The current value is  1\n",
            "The current value is  0\n",
            "OK\n"
          ]
        }
      ]
    },
    {
      "cell_type": "code",
      "metadata": {
        "colab": {
          "base_uri": "https://localhost:8080/",
          "height": 52
        },
        "id": "Z5L8GxX_ArLp",
        "outputId": "9461ec11-5cb8-4bee-f65b-084086edcc50"
      },
      "source": [
        "#Pass statement\n",
        "\"\"\"It is used when a statement is required syntactically but you do not want any command or code to execute.\\\n",
        "The pass statement is a null operation; nothing happens when it executes.\\\n",
        "The pass statement is also useful in places where your code will eventually go, but has not been written yet i.e. in stubs.\"\"\""
      ],
      "execution_count": 40,
      "outputs": [
        {
          "output_type": "execute_result",
          "data": {
            "application/vnd.google.colaboratory.intrinsic+json": {
              "type": "string"
            },
            "text/plain": [
              "'It is used when a statement is required syntactically but you do not want any command or code to execute.The pass statement is a null operation; nothing happens when it executes.The pass statement is also useful in places where your code will eventually go, but has not been written yet i.e. in stubs.'"
            ]
          },
          "metadata": {},
          "execution_count": 40
        }
      ]
    },
    {
      "cell_type": "code",
      "metadata": {
        "colab": {
          "base_uri": "https://localhost:8080/"
        },
        "id": "vDmnwNiQBKdm",
        "outputId": "3b8a00dc-d994-478f-d67a-777638c639f7"
      },
      "source": [
        "for word in 'Hello':\n",
        "  if word=='l':\n",
        "    pass\n",
        "    print('This is a pass block')\n",
        "  print('The word is ', word)\n",
        "\n",
        "print('OK Done!')"
      ],
      "execution_count": 43,
      "outputs": [
        {
          "output_type": "stream",
          "name": "stdout",
          "text": [
            "The word is  H\n",
            "The word is  e\n",
            "This is a pass block\n",
            "The word is  l\n",
            "This is a pass block\n",
            "The word is  l\n",
            "The word is  o\n",
            "OK Done!\n"
          ]
        }
      ]
    },
    {
      "cell_type": "code",
      "metadata": {
        "colab": {
          "base_uri": "https://localhost:8080/"
        },
        "id": "ZQh_xUCuBbLX",
        "outputId": "00381a18-bc02-40e4-aaaf-51b20b3ddc90"
      },
      "source": [
        "for word in 'Python':\n",
        "  if word=='o':\n",
        "    pass\n",
        "    print('Pass block')\n",
        "  print('The word is ',word)\n",
        "\n",
        "print('Done')"
      ],
      "execution_count": 44,
      "outputs": [
        {
          "output_type": "stream",
          "name": "stdout",
          "text": [
            "The word is  P\n",
            "The word is  y\n",
            "The word is  t\n",
            "The word is  h\n",
            "Pass block\n",
            "The word is  o\n",
            "The word is  n\n",
            "Done\n"
          ]
        }
      ]
    },
    {
      "cell_type": "code",
      "metadata": {
        "id": "xFGVaG9JCHAM"
      },
      "source": [
        ""
      ],
      "execution_count": null,
      "outputs": []
    }
  ]
}