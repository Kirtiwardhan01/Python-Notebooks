{
  "nbformat": 4,
  "nbformat_minor": 0,
  "metadata": {
    "colab": {
      "name": "Python_NB 05 - Loops - 2.ipynb",
      "provenance": [],
      "authorship_tag": "ABX9TyND5aaCDOGH0cOrqzDpVj24",
      "include_colab_link": true
    },
    "kernelspec": {
      "name": "python3",
      "display_name": "Python 3"
    },
    "language_info": {
      "name": "python"
    }
  },
  "cells": [
    {
      "cell_type": "markdown",
      "metadata": {
        "id": "view-in-github",
        "colab_type": "text"
      },
      "source": [
        "<a href=\"https://colab.research.google.com/github/Kirtiwardhan01/Python-Notebooks/blob/main/Python_NB_05_Loops_2.ipynb\" target=\"_parent\"><img src=\"https://colab.research.google.com/assets/colab-badge.svg\" alt=\"Open In Colab\"/></a>"
      ]
    },
    {
      "cell_type": "code",
      "metadata": {
        "colab": {
          "base_uri": "https://localhost:8080/",
          "height": 52
        },
        "id": "UPe5rDg2HY7s",
        "outputId": "499bde8b-427c-4e03-cdae-8e05f115aa93"
      },
      "source": [
        "#Iterator and Generator\n",
        "\"\"\"Iterator is an object which allows a programmer to traverse through all the elements of a collection, regardless of its specific implementation. In Python, an iterator object implements two methods, iter() and next().\\\n",
        "String, List or Tuple objects can be used to create an Iterator.\"\"\""
      ],
      "execution_count": 2,
      "outputs": [
        {
          "output_type": "execute_result",
          "data": {
            "application/vnd.google.colaboratory.intrinsic+json": {
              "type": "string"
            },
            "text/plain": [
              "'Iterator is an object which allows a programmer to traverse through all the elements of a collection, regardless of its specific implementation. In Python, an iterator object implements two methods, iter() and next().String, List or Tuple objects can be used to create an Iterator.'"
            ]
          },
          "metadata": {},
          "execution_count": 2
        }
      ]
    },
    {
      "cell_type": "code",
      "metadata": {
        "colab": {
          "base_uri": "https://localhost:8080/",
          "height": 214
        },
        "id": "a3L2w2ozJsMi",
        "outputId": "087d66b3-245e-4c70-a5e1-cc93449bf4bb"
      },
      "source": [
        "!pip install sys\n",
        "import sys\n",
        "\n",
        "list1 = [1,2,3,4]\n",
        "it = iter(list1) # this builds an iterator object\n",
        "print (next(it)) #prints next available element in iterator\n",
        "#Iterator object can be traversed using regular for statement\n",
        "for x in it:\n",
        "   print (x, end=\" \")\n",
        "#or using next() function\n",
        "while True:\n",
        "   try:\n",
        "      print (next(it))\n",
        "   except StopIteration:\n",
        "     sys.exit()"
      ],
      "execution_count": 11,
      "outputs": [
        {
          "output_type": "stream",
          "name": "stdout",
          "text": [
            "\u001b[31mERROR: Could not find a version that satisfies the requirement sys (from versions: none)\u001b[0m\n",
            "\u001b[31mERROR: No matching distribution found for sys\u001b[0m\n",
            "1\n",
            "2 3 4 "
          ]
        },
        {
          "output_type": "error",
          "ename": "SystemExit",
          "evalue": "ignored",
          "traceback": [
            "An exception has occurred, use %tb to see the full traceback.\n",
            "\u001b[0;31mSystemExit\u001b[0m\n"
          ]
        },
        {
          "output_type": "stream",
          "name": "stderr",
          "text": [
            "/usr/local/lib/python3.7/dist-packages/IPython/core/interactiveshell.py:2890: UserWarning: To exit: use 'exit', 'quit', or Ctrl-D.\n",
            "  warn(\"To exit: use 'exit', 'quit', or Ctrl-D.\", stacklevel=1)\n"
          ]
        }
      ]
    },
    {
      "cell_type": "code",
      "metadata": {
        "colab": {
          "base_uri": "https://localhost:8080/",
          "height": 86
        },
        "id": "gfyExt81J8EJ",
        "outputId": "04f47909-cda7-4b84-f0b1-80e23158e8a3"
      },
      "source": [
        "#A generator is a function that produces or yields a sequence of values using yield method.\n",
        "\n",
        "\"\"\"When a generator function is called, it returns a generator object without even beginning execution of the function. \\\n",
        "When the next() method is called for the first time, the function starts executing until it reaches the yield statement, \\\n",
        "which returns the yielded value. The yield keeps track i.e. remembers the last execution and the second next() call continues from previous value.\\\n",
        "The following example defines a generator, which generates an iterator for all the Fibonacci numbers\"\"\""
      ],
      "execution_count": 22,
      "outputs": [
        {
          "output_type": "execute_result",
          "data": {
            "application/vnd.google.colaboratory.intrinsic+json": {
              "type": "string"
            },
            "text/plain": [
              "'When a generator function is called, it returns a generator object without even beginning execution of the function. When the next() method is called for the first time, the function starts executing until it reaches the yield statement, which returns the yielded value. The yield keeps track i.e. remembers the last execution and the second next() call continues from previous value.The following example defines a generator, which generates an iterator for all the Fibonacci numbers'"
            ]
          },
          "metadata": {},
          "execution_count": 22
        }
      ]
    },
    {
      "cell_type": "code",
      "metadata": {
        "colab": {
          "base_uri": "https://localhost:8080/",
          "height": 163
        },
        "id": "owO5WiekMGQL",
        "outputId": "f94941b0-b168-40c2-9957-746b22668b96"
      },
      "source": [
        "import sys\n",
        "def fibonacci(n): #generator function\n",
        "   a, b, counter = 0, 1, 0\n",
        "   while True:\n",
        "      if (counter > n): \n",
        "         return\n",
        "      yield a\n",
        "      a, b = b, a + b\n",
        "      counter += 1\n",
        "f = fibonacci(5) #f is iterator object\n",
        "\n",
        "while True:\n",
        "   try:\n",
        "      print (next(f), end=\" \")\n",
        "   except StopIteration:\n",
        "      sys.exit()"
      ],
      "execution_count": 23,
      "outputs": [
        {
          "output_type": "stream",
          "name": "stdout",
          "text": [
            "0 1 1 2 3 5 "
          ]
        },
        {
          "output_type": "error",
          "ename": "SystemExit",
          "evalue": "ignored",
          "traceback": [
            "An exception has occurred, use %tb to see the full traceback.\n",
            "\u001b[0;31mSystemExit\u001b[0m\n"
          ]
        },
        {
          "output_type": "stream",
          "name": "stderr",
          "text": [
            "/usr/local/lib/python3.7/dist-packages/IPython/core/interactiveshell.py:2890: UserWarning: To exit: use 'exit', 'quit', or Ctrl-D.\n",
            "  warn(\"To exit: use 'exit', 'quit', or Ctrl-D.\", stacklevel=1)\n"
          ]
        }
      ]
    },
    {
      "cell_type": "code",
      "metadata": {
        "id": "r7vxqbjIMxIx"
      },
      "source": [
        ""
      ],
      "execution_count": null,
      "outputs": []
    }
  ]
}