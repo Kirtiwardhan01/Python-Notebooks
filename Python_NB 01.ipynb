{
 "cells": [
  {
   "cell_type": "code",
   "execution_count": 1,
   "metadata": {},
   "outputs": [],
   "source": [
    "import pandas as pd\n",
    "import numpy as np"
   ]
  },
  {
   "cell_type": "code",
   "execution_count": 2,
   "metadata": {},
   "outputs": [
    {
     "name": "stdout",
     "output_type": "stream",
     "text": [
      "yes\n"
     ]
    }
   ],
   "source": [
    "print('yes')"
   ]
  },
  {
   "cell_type": "code",
   "execution_count": 3,
   "metadata": {},
   "outputs": [
    {
     "name": "stdout",
     "output_type": "stream",
     "text": [
      "Yes\n",
      "No\n"
     ]
    }
   ],
   "source": [
    "a = 'yes'\n",
    "b = 'Not yes'\n",
    "if a == 'yes':\n",
    "    print('Yes')\n",
    "else:\n",
    "    print('No')\n",
    "\n",
    "if b == 'yes':\n",
    "    print('Yes')\n",
    "else:\n",
    "    print('No')"
   ]
  },
  {
   "cell_type": "code",
   "execution_count": 4,
   "metadata": {},
   "outputs": [
    {
     "data": {
      "text/plain": [
       "'yes Not yes'"
      ]
     },
     "execution_count": 4,
     "metadata": {},
     "output_type": "execute_result"
    }
   ],
   "source": [
    "#Multiline statements\n",
    "total = a +\\\n",
    "' '+b\n",
    "total"
   ]
  },
  {
   "cell_type": "code",
   "execution_count": 5,
   "metadata": {},
   "outputs": [
    {
     "name": "stdout",
     "output_type": "stream",
     "text": [
      "['a', 'b', 'c', 'd', 'e', 'f']\n",
      "(12, 23, 34, 45, 56)\n"
     ]
    }
   ],
   "source": [
    "month = ['a','b','c','d','e','f']\n",
    "month\n",
    "print(month)\n",
    "\n",
    "year = (12,23,34,45,56)\n",
    "print(year)\n",
    "\n",
    "#year[0] = 41\n",
    "#print(year)"
   ]
  },
  {
   "cell_type": "code",
   "execution_count": 6,
   "metadata": {},
   "outputs": [
    {
     "name": "stdout",
     "output_type": "stream",
     "text": [
      "{'a': 1, 'b': 2, 'c': 3}\n",
      "{1, 3, 5, 't', 'r'}\n",
      "<class 'dict'>\n",
      "<class 'set'>\n"
     ]
    }
   ],
   "source": [
    "dict = {'a':1,'b':2,'c':3}   #dictionary\n",
    "print(dict)\n",
    "\n",
    "set_a = {1,3,5,'r','t'}   #set\n",
    "print(set_a)\n",
    "\n",
    "print(type(dict))\n",
    "print(type(set_a))"
   ]
  },
  {
   "cell_type": "code",
   "execution_count": 7,
   "metadata": {},
   "outputs": [
    {
     "name": "stdout",
     "output_type": "stream",
     "text": [
      "kirti\n",
      "data science researcher\n"
     ]
    },
    {
     "data": {
      "text/plain": [
       "'This is an example of multiple lines. There is a difference between single line and multiple lines'"
      ]
     },
     "execution_count": 7,
     "metadata": {},
     "output_type": "execute_result"
    }
   ],
   "source": [
    "name = 'kirti'\n",
    "print(name)\n",
    "\n",
    "profession = \"data science researcher\"\n",
    "print(profession)\n",
    "\n",
    "multi_line = \"\"\"This is an example of multiple lines. There is a difference between \\\n",
    "single line and multiple lines\"\"\"\n",
    "multi_line"
   ]
  },
  {
   "cell_type": "code",
   "execution_count": 8,
   "metadata": {},
   "outputs": [],
   "source": [
    "#This is a comment\n",
    "\n",
    "# This is also a comment"
   ]
  },
  {
   "cell_type": "code",
   "execution_count": 9,
   "metadata": {},
   "outputs": [
    {
     "name": "stdout",
     "output_type": "stream",
     "text": [
      "\n",
      "\n",
      "Press any button to entera\n"
     ]
    },
    {
     "data": {
      "text/plain": [
       "'a'"
      ]
     },
     "execution_count": 9,
     "metadata": {},
     "output_type": "execute_result"
    }
   ],
   "source": [
    "input(\"\\n\\nPress any button to enter\")"
   ]
  },
  {
   "cell_type": "code",
   "execution_count": 10,
   "metadata": {},
   "outputs": [],
   "source": [
    "import seaborn as sns; x = 'hello'"
   ]
  },
  {
   "cell_type": "code",
   "execution_count": 11,
   "metadata": {},
   "outputs": [
    {
     "data": {
      "text/plain": [
       "'hello'"
      ]
     },
     "execution_count": 11,
     "metadata": {},
     "output_type": "execute_result"
    }
   ],
   "source": [
    "x"
   ]
  },
  {
   "cell_type": "code",
   "execution_count": 12,
   "metadata": {},
   "outputs": [],
   "source": [
    "x = 'hi'\n",
    "y = 'how are you'\n",
    "z = x+' '+y"
   ]
  },
  {
   "cell_type": "code",
   "execution_count": 13,
   "metadata": {},
   "outputs": [
    {
     "name": "stdout",
     "output_type": "stream",
     "text": [
      "hi how are you\n"
     ]
    }
   ],
   "source": [
    "if x == 'hello':\n",
    "    print(x)\n",
    "elif y == 'hi':\n",
    "    print(y)\n",
    "else:\n",
    "    print(z)"
   ]
  },
  {
   "cell_type": "code",
   "execution_count": 14,
   "metadata": {},
   "outputs": [
    {
     "name": "stdout",
     "output_type": "stream",
     "text": [
      "100\n",
      "1000.0\n",
      "John\n",
      "<class 'int'>\n",
      "<class 'float'>\n",
      "<class 'str'>\n"
     ]
    }
   ],
   "source": [
    "counter = 100          # An integer assignment\n",
    "miles   = 1000.0       # A floating point\n",
    "name    = \"John\"       # A string\n",
    "\n",
    "print (counter)\n",
    "print (miles)\n",
    "print (name)\n",
    "\n",
    "print (type(counter))\n",
    "print (type(miles))\n",
    "print (type(name))"
   ]
  },
  {
   "cell_type": "code",
   "execution_count": 15,
   "metadata": {},
   "outputs": [
    {
     "name": "stdout",
     "output_type": "stream",
     "text": [
      "1\n",
      "1\n",
      "1\n"
     ]
    }
   ],
   "source": [
    "a = b = c = 1\n",
    "\n",
    "print(a)\n",
    "print(b)\n",
    "print(c)"
   ]
  },
  {
   "cell_type": "code",
   "execution_count": 16,
   "metadata": {},
   "outputs": [
    {
     "name": "stdout",
     "output_type": "stream",
     "text": [
      "11\n",
      "23.23\n",
      "hello\n"
     ]
    }
   ],
   "source": [
    "a,b,c = 11,23.23,'hello'\n",
    "print(a)\n",
    "print(b)\n",
    "print(c)"
   ]
  },
  {
   "cell_type": "code",
   "execution_count": 17,
   "metadata": {},
   "outputs": [
    {
     "name": "stdout",
     "output_type": "stream",
     "text": [
      "<class 'float'>\n"
     ]
    }
   ],
   "source": [
    "a = 10\n",
    "b = 1.112\n",
    "type(a)\n",
    "print(type(b))"
   ]
  },
  {
   "cell_type": "code",
   "execution_count": 18,
   "metadata": {},
   "outputs": [],
   "source": [
    "del a,b"
   ]
  },
  {
   "cell_type": "code",
   "execution_count": 19,
   "metadata": {},
   "outputs": [],
   "source": [
    "var_a = 12\n",
    "var_b = 25\n"
   ]
  },
  {
   "cell_type": "code",
   "execution_count": 20,
   "metadata": {},
   "outputs": [],
   "source": [
    "del var_a,var_b"
   ]
  },
  {
   "cell_type": "code",
   "execution_count": 21,
   "metadata": {},
   "outputs": [
    {
     "name": "stdout",
     "output_type": "stream",
     "text": [
      "Hello World!\n",
      "H\n",
      "llo\n",
      "llo World!\n",
      "Hello World!Hello World!\n",
      "Hello World! How are you?\n",
      "Hello World! Wassup\n"
     ]
    }
   ],
   "source": [
    "str1 = 'Hello World!'\n",
    "str2 = 'How are you?'\n",
    "\n",
    "# Prints complete string\n",
    "print(str1[:])\n",
    "\n",
    "# Prints first character of the string\n",
    "print(str1[0])\n",
    "\n",
    "# Prints characters starting from 3rd to 5th\n",
    "print(str1[2:5])\n",
    "\n",
    "# Prints string starting from 3rd character\n",
    "print(str1[2:])\n",
    "\n",
    "# Prints string two times\n",
    "print(str1*2)\n",
    "\n",
    "# Prints concatenated string\n",
    "print(str1+' '+str2)\n",
    "\n",
    "# Prints concatenated string\n",
    "print(str1+' '+'Wassup')"
   ]
  },
  {
   "cell_type": "code",
   "execution_count": 22,
   "metadata": {},
   "outputs": [
    {
     "name": "stdout",
     "output_type": "stream",
     "text": [
      "['abcd', 786, 2.23, 'john', 70.2]\n",
      "abcd\n",
      "[786, 2.23]\n",
      "[2.23, 'john', 70.2]\n",
      "['abcd', 786, 2.23, 'john', 70.2, 'abcd', 786, 2.23, 'john', 70.2]\n",
      "[123, 'john', 123, 'john']\n",
      "['abcd', 786, 2.23, 'john', 70.2, 123, 'john']\n"
     ]
    }
   ],
   "source": [
    "#List\n",
    "list1 = [ 'abcd', 786 , 2.23, 'john', 70.2 ]\n",
    "tinylist = [123, 'john']\n",
    "\n",
    "# Prints complete list\n",
    "print(list1)\n",
    "\n",
    "# Prints first element of the list\n",
    "print(list1[0])\n",
    "\n",
    "# Prints elements starting from 2nd till 3rd\n",
    "print(list1[1:3])\n",
    "\n",
    "# Prints elements starting from 3rd element\n",
    "print(list1[2:])\n",
    "\n",
    "# Prints list two times\n",
    "print(list1*2)\n",
    "print(tinylist*2)\n",
    "\n",
    "# Prints concatenated lists\n",
    "print(list1 + tinylist)"
   ]
  },
  {
   "cell_type": "code",
   "execution_count": 23,
   "metadata": {},
   "outputs": [
    {
     "name": "stdout",
     "output_type": "stream",
     "text": [
      "('abcd', 786, 2.23, 'john', 70.2)\n",
      "(123, 'john')\n",
      "abcd\n",
      "(786, 2.23)\n",
      "(2.23, 'john', 70.2)\n",
      "(123, 'john', 123, 'john')\n",
      "('abcd', 786, 2.23, 'john', 70.2, 123, 'john')\n"
     ]
    }
   ],
   "source": [
    "#Tuple\n",
    "tuple1 = ( 'abcd', 786 , 2.23, 'john', 70.2  )\n",
    "tinytuple = (123, 'john')\n",
    "\n",
    "# Prints complete tuple\n",
    "print(tuple1)\n",
    "print(tinytuple)\n",
    "\n",
    "# Prints first element of the tuple\n",
    "print(tuple1[0])\n",
    "\n",
    "# Prints elements starting from 2nd till 3rd \n",
    "print(tuple1[1:3])\n",
    "\n",
    "## Prints elements starting from 3rd element\n",
    "print(tuple1[2:])\n",
    "\n",
    "# Prints tuple two times\n",
    "print(tinytuple*2)\n",
    "\n",
    "# Prints concatenated tuple\n",
    "print(tuple1+tinytuple)"
   ]
  },
  {
   "cell_type": "code",
   "execution_count": 24,
   "metadata": {},
   "outputs": [
    {
     "ename": "TypeError",
     "evalue": "'tuple' object does not support item assignment",
     "output_type": "error",
     "traceback": [
      "\u001b[1;31m---------------------------------------------------------------------------\u001b[0m",
      "\u001b[1;31mTypeError\u001b[0m                                 Traceback (most recent call last)",
      "\u001b[1;32m<ipython-input-24-af54a076b1df>\u001b[0m in \u001b[0;36m<module>\u001b[1;34m\u001b[0m\n\u001b[0;32m      2\u001b[0m \u001b[0mlist1\u001b[0m \u001b[1;33m=\u001b[0m \u001b[1;33m[\u001b[0m\u001b[1;36m1\u001b[0m\u001b[1;33m,\u001b[0m\u001b[1;36m45\u001b[0m\u001b[1;33m,\u001b[0m\u001b[1;34m'kisan'\u001b[0m\u001b[1;33m,\u001b[0m\u001b[1;34m'sailee'\u001b[0m\u001b[1;33m,\u001b[0m\u001b[1;36m34.67\u001b[0m\u001b[1;33m]\u001b[0m\u001b[1;33m\u001b[0m\u001b[1;33m\u001b[0m\u001b[0m\n\u001b[0;32m      3\u001b[0m \u001b[1;33m\u001b[0m\u001b[0m\n\u001b[1;32m----> 4\u001b[1;33m \u001b[0mtuple1\u001b[0m\u001b[1;33m[\u001b[0m\u001b[1;36m2\u001b[0m\u001b[1;33m]\u001b[0m \u001b[1;33m=\u001b[0m \u001b[1;36m1000\u001b[0m   \u001b[1;31m# Invalid syntax with tuple\u001b[0m\u001b[1;33m\u001b[0m\u001b[1;33m\u001b[0m\u001b[0m\n\u001b[0m\u001b[0;32m      5\u001b[0m \u001b[0mlist1\u001b[0m\u001b[1;33m[\u001b[0m\u001b[1;36m2\u001b[0m\u001b[1;33m]\u001b[0m \u001b[1;33m=\u001b[0m \u001b[1;36m1000\u001b[0m   \u001b[1;31m# Valid syntax with list\u001b[0m\u001b[1;33m\u001b[0m\u001b[1;33m\u001b[0m\u001b[0m\n",
      "\u001b[1;31mTypeError\u001b[0m: 'tuple' object does not support item assignment"
     ]
    }
   ],
   "source": [
    "tuple1 = (1,45,'kisan','sailee',34.67)\n",
    "list1 = [1,45,'kisan','sailee',34.67]\n",
    "\n",
    "tuple1[2] = 1000   # Invalid syntax with tuple\n",
    "list1[2] = 1000   # Valid syntax with list"
   ]
  },
  {
   "cell_type": "code",
   "execution_count": 25,
   "metadata": {},
   "outputs": [
    {
     "name": "stdout",
     "output_type": "stream",
     "text": [
      "{1: 10, 'two': 13.57}\n",
      "{'name': 'john', 'code': 176, 'dept': 'marketing'}\n",
      "13.57\n",
      "10\n",
      "{1: 10, 'two': 13.57}\n",
      "dict_keys([1, 'two'])\n",
      "dict_keys(['name', 'code', 'dept'])\n",
      "dict_values([10, 13.57])\n",
      "dict_values(['john', 176, 'marketing'])\n"
     ]
    }
   ],
   "source": [
    "#Dictionary\n",
    "dict1 = {}\n",
    "dict1[1] = 10\n",
    "dict1['two'] = 13.57\n",
    "\n",
    "tinydict = {'name':'john','code':176,'dept':'marketing'}\n",
    "\n",
    "print(dict1)\n",
    "print(tinydict)\n",
    "\n",
    "## Prints value for 'two' key\n",
    "print(dict1['two'])\n",
    "\n",
    "# Prints value for 2 key\n",
    "print(dict1[1])\n",
    "\n",
    "# Prints complete dictionary\n",
    "print(dict1)\n",
    "\n",
    "# Prints all the keys\n",
    "print(dict1.keys())\n",
    "print(tinydict.keys())\n",
    "\n",
    "## Prints all the values\n",
    "print(dict1.values())\n",
    "print(tinydict.values())"
   ]
  },
  {
   "cell_type": "code",
   "execution_count": 26,
   "metadata": {},
   "outputs": [
    {
     "data": {
      "text/plain": [
       "(1+0j)"
      ]
     },
     "execution_count": 26,
     "metadata": {},
     "output_type": "execute_result"
    }
   ],
   "source": [
    "#Data Type Conversion\n",
    "\n",
    "a,b,c,d = 1,2.3,'450',126\n",
    "int(c)\n",
    "float(a)\n",
    "complex(a)"
   ]
  },
  {
   "cell_type": "code",
   "execution_count": 27,
   "metadata": {},
   "outputs": [
    {
     "data": {
      "text/plain": [
       "'126'"
      ]
     },
     "execution_count": 27,
     "metadata": {},
     "output_type": "execute_result"
    }
   ],
   "source": [
    "e = str(d)\n",
    "e"
   ]
  },
  {
   "cell_type": "code",
   "execution_count": 28,
   "metadata": {},
   "outputs": [
    {
     "data": {
      "text/plain": [
       "\"'126'\""
      ]
     },
     "execution_count": 28,
     "metadata": {},
     "output_type": "execute_result"
    }
   ],
   "source": [
    "repr(e)"
   ]
  },
  {
   "cell_type": "code",
   "execution_count": 29,
   "metadata": {},
   "outputs": [
    {
     "data": {
      "text/plain": [
       "int"
      ]
     },
     "execution_count": 29,
     "metadata": {},
     "output_type": "execute_result"
    }
   ],
   "source": [
    "type(eval(e))"
   ]
  },
  {
   "cell_type": "code",
   "execution_count": 30,
   "metadata": {},
   "outputs": [
    {
     "data": {
      "text/plain": [
       "('1', '2', '6')"
      ]
     },
     "execution_count": 30,
     "metadata": {},
     "output_type": "execute_result"
    }
   ],
   "source": [
    "tuple(e)"
   ]
  },
  {
   "cell_type": "code",
   "execution_count": 31,
   "metadata": {},
   "outputs": [
    {
     "data": {
      "text/plain": [
       "['4', '5', '0']"
      ]
     },
     "execution_count": 31,
     "metadata": {},
     "output_type": "execute_result"
    }
   ],
   "source": [
    "list(c)"
   ]
  }
 ],
 "metadata": {
  "kernelspec": {
   "display_name": "Python 3",
   "language": "python",
   "name": "python3"
  },
  "language_info": {
   "codemirror_mode": {
    "name": "ipython",
    "version": 3
   },
   "file_extension": ".py",
   "mimetype": "text/x-python",
   "name": "python",
   "nbconvert_exporter": "python",
   "pygments_lexer": "ipython3",
   "version": "3.7.3"
  }
 },
 "nbformat": 4,
 "nbformat_minor": 2
}
